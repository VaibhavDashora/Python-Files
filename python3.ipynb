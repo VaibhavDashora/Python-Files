{
 "cells": [
  {
   "cell_type": "code",
   "execution_count": 8,
   "id": "08cc606d",
   "metadata": {},
   "outputs": [
    {
     "name": "stdout",
     "output_type": "stream",
     "text": [
      "akshay\n",
      "Piyush\n",
      "Samridhi\n",
      "shakshi\n"
     ]
    }
   ],
   "source": [
    "names = ['tom','jake','Billy','Connor']\n",
    "print(names[0])\n",
    "print(names[1].title())\n",
    "print(names[2].title())\n",
    "print(names[-1])"
   ]
  },
  {
   "cell_type": "code",
   "execution_count": 15,
   "id": "cf01a8a4",
   "metadata": {},
   "outputs": [
    {
     "name": "stdout",
     "output_type": "stream",
     "text": [
      "\n",
      "i would like to drive Maybach Gls600.\n"
     ]
    }
   ],
   "source": [
    "cars = ['maybach gls600','maybach s-class','challenger srt']\n",
    "message = \"\\ni would like to drive \"+cars[0].title()+ \".\"\n",
    "print(message)"
   ]
  },
  {
   "cell_type": "code",
   "execution_count": 26,
   "id": "cefabf7c",
   "metadata": {},
   "outputs": [
    {
     "name": "stdout",
     "output_type": "stream",
     "text": [
      "['dodge', 'mercesdes benz', 'Land rover']\n",
      "['lambhorgini', 'mercesdes benz', 'Land rover']\n",
      "['lambhorgini', 'mercesdes benz', 'Land rover', 'lexus']\n",
      "['ferrari', 'lambhorgini', 'mercesdes benz', 'Land rover', 'lexus']\n",
      "['ferrari', 'lambhorgini', 'mercesdes benz', 'lexus']\n"
     ]
    }
   ],
   "source": [
    "cars = ['dodge','mercesdes benz','Land rover']\n",
    "print(cars)\n",
    "\n",
    "cars[0] = 'lambhorgini'\n",
    "print(cars)\n",
    "\n",
    "cars.append('lexus')\n",
    "print(cars)\n",
    "\n",
    "cars.insert(0,'ferrari')\n",
    "print(cars)\n",
    "\n",
    "del cars[3]\n",
    "print(cars)"
   ]
  },
  {
   "cell_type": "code",
   "execution_count": 2,
   "id": "22e10097",
   "metadata": {},
   "outputs": [
    {
     "name": "stdout",
     "output_type": "stream",
     "text": [
      "['bentley', 'subaru', 'tata']\n",
      "tata\n"
     ]
    }
   ],
   "source": [
    "cars = ['bentley','subaru','tata']\n",
    "print(cars)\n",
    "\n",
    "popped_cars = cars.pop()\n",
    "print(popped_cars)"
   ]
  },
  {
   "cell_type": "code",
   "execution_count": 3,
   "id": "d52d90c6",
   "metadata": {},
   "outputs": [
    {
     "name": "stdout",
     "output_type": "stream",
     "text": [
      "the last cars i owned is Tesla.\n"
     ]
    }
   ],
   "source": [
    "cars = ['rolls royce','bentley','tesla']\n",
    "last_owned = cars.pop()\n",
    "print(\"the last cars i owned is \" + last_owned.title() +\".\" )"
   ]
  },
  {
   "cell_type": "code",
   "execution_count": null,
   "id": "43101fc9",
   "metadata": {},
   "outputs": [],
   "source": []
  }
 ],
 "metadata": {
  "kernelspec": {
   "display_name": "Python 3",
   "language": "python",
   "name": "python3"
  },
  "language_info": {
   "codemirror_mode": {
    "name": "ipython",
    "version": 3
   },
   "file_extension": ".py",
   "mimetype": "text/x-python",
   "name": "python",
   "nbconvert_exporter": "python",
   "pygments_lexer": "ipython3",
   "version": "3.8.8"
  }
 },
 "nbformat": 4,
 "nbformat_minor": 5
}
