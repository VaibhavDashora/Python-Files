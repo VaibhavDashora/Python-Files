{
 "cells": [
  {
   "cell_type": "code",
   "execution_count": 1,
   "id": "e915c592-bd10-477c-b5bb-e07731dfad30",
   "metadata": {},
   "outputs": [],
   "source": [
    "import pandas as pd"
   ]
  },
  {
   "cell_type": "code",
   "execution_count": 3,
   "id": "02aac5c3-48fe-4fa2-919a-69bdaf5e24de",
   "metadata": {},
   "outputs": [
    {
     "data": {
      "text/html": [
       "<div>\n",
       "<style scoped>\n",
       "    .dataframe tbody tr th:only-of-type {\n",
       "        vertical-align: middle;\n",
       "    }\n",
       "\n",
       "    .dataframe tbody tr th {\n",
       "        vertical-align: top;\n",
       "    }\n",
       "\n",
       "    .dataframe thead th {\n",
       "        text-align: right;\n",
       "    }\n",
       "</style>\n",
       "<table border=\"1\" class=\"dataframe\">\n",
       "  <thead>\n",
       "    <tr style=\"text-align: right;\">\n",
       "      <th></th>\n",
       "      <th>Year</th>\n",
       "      <th>City</th>\n",
       "      <th>Sport</th>\n",
       "      <th>Discipline</th>\n",
       "      <th>Athlete</th>\n",
       "      <th>Country</th>\n",
       "      <th>Gender</th>\n",
       "      <th>Event</th>\n",
       "      <th>Medal</th>\n",
       "    </tr>\n",
       "  </thead>\n",
       "  <tbody>\n",
       "    <tr>\n",
       "      <th>0</th>\n",
       "      <td>1896</td>\n",
       "      <td>Athens</td>\n",
       "      <td>Aquatics</td>\n",
       "      <td>Swimming</td>\n",
       "      <td>HAJOS, Alfred</td>\n",
       "      <td>HUN</td>\n",
       "      <td>Men</td>\n",
       "      <td>100M Freestyle</td>\n",
       "      <td>Gold</td>\n",
       "    </tr>\n",
       "    <tr>\n",
       "      <th>1</th>\n",
       "      <td>1896</td>\n",
       "      <td>Athens</td>\n",
       "      <td>Aquatics</td>\n",
       "      <td>Swimming</td>\n",
       "      <td>HERSCHMANN, Otto</td>\n",
       "      <td>AUT</td>\n",
       "      <td>Men</td>\n",
       "      <td>100M Freestyle</td>\n",
       "      <td>Silver</td>\n",
       "    </tr>\n",
       "    <tr>\n",
       "      <th>2</th>\n",
       "      <td>1896</td>\n",
       "      <td>Athens</td>\n",
       "      <td>Aquatics</td>\n",
       "      <td>Swimming</td>\n",
       "      <td>DRIVAS, Dimitrios</td>\n",
       "      <td>GRE</td>\n",
       "      <td>Men</td>\n",
       "      <td>100M Freestyle For Sailors</td>\n",
       "      <td>Bronze</td>\n",
       "    </tr>\n",
       "    <tr>\n",
       "      <th>3</th>\n",
       "      <td>1896</td>\n",
       "      <td>Athens</td>\n",
       "      <td>Aquatics</td>\n",
       "      <td>Swimming</td>\n",
       "      <td>MALOKINIS, Ioannis</td>\n",
       "      <td>GRE</td>\n",
       "      <td>Men</td>\n",
       "      <td>100M Freestyle For Sailors</td>\n",
       "      <td>Gold</td>\n",
       "    </tr>\n",
       "    <tr>\n",
       "      <th>4</th>\n",
       "      <td>1896</td>\n",
       "      <td>Athens</td>\n",
       "      <td>Aquatics</td>\n",
       "      <td>Swimming</td>\n",
       "      <td>CHASAPIS, Spiridon</td>\n",
       "      <td>GRE</td>\n",
       "      <td>Men</td>\n",
       "      <td>100M Freestyle For Sailors</td>\n",
       "      <td>Silver</td>\n",
       "    </tr>\n",
       "  </tbody>\n",
       "</table>\n",
       "</div>"
      ],
      "text/plain": [
       "   Year    City     Sport Discipline             Athlete Country Gender  \\\n",
       "0  1896  Athens  Aquatics   Swimming       HAJOS, Alfred     HUN    Men   \n",
       "1  1896  Athens  Aquatics   Swimming    HERSCHMANN, Otto     AUT    Men   \n",
       "2  1896  Athens  Aquatics   Swimming   DRIVAS, Dimitrios     GRE    Men   \n",
       "3  1896  Athens  Aquatics   Swimming  MALOKINIS, Ioannis     GRE    Men   \n",
       "4  1896  Athens  Aquatics   Swimming  CHASAPIS, Spiridon     GRE    Men   \n",
       "\n",
       "                        Event   Medal  \n",
       "0              100M Freestyle    Gold  \n",
       "1              100M Freestyle  Silver  \n",
       "2  100M Freestyle For Sailors  Bronze  \n",
       "3  100M Freestyle For Sailors    Gold  \n",
       "4  100M Freestyle For Sailors  Silver  "
      ]
     },
     "execution_count": 3,
     "metadata": {},
     "output_type": "execute_result"
    }
   ],
   "source": [
    "df = pd.read_csv(\"olympics .csv\")\n",
    "df.head()"
   ]
  },
  {
   "cell_type": "code",
   "execution_count": 4,
   "id": "9d23900c-8de4-4638-a094-ed440b777e14",
   "metadata": {},
   "outputs": [
    {
     "data": {
      "text/plain": [
       "Sport\n",
       "Aquatics      4170\n",
       "Athletics     3638\n",
       "Rowing        2667\n",
       "Gymnastics    2307\n",
       "Fencing       1613\n",
       "Name: Medal, dtype: int64"
      ]
     },
     "execution_count": 4,
     "metadata": {},
     "output_type": "execute_result"
    }
   ],
   "source": [
    "top5_sports = df.groupby(\"Sport\")[\"Medal\"].count().sort_values(ascending=False).head(5)\n",
    "top5_sports"
   ]
  },
  {
   "cell_type": "code",
   "execution_count": 5,
   "id": "96a4ead1-e034-4bad-a8be-2373bc2873db",
   "metadata": {},
   "outputs": [
    {
     "data": {
      "text/plain": [
       "Athlete\n",
       "PHELPS, Michael     18\n",
       "LATYNINA, Larisa     9\n",
       "NURMI, Paavo         9\n",
       "LEWIS, Carl          9\n",
       "SPITZ, Mark          9\n",
       "Name: Medal, dtype: int64"
      ]
     },
     "execution_count": 5,
     "metadata": {},
     "output_type": "execute_result"
    }
   ],
   "source": [
    "top5_athletes = df[df[\"Medal\"]==\"Gold\"].groupby(\"Athlete\")[\"Medal\"].count().sort_values(ascending=False).head(5)\n",
    "top5_athletes"
   ]
  },
  {
   "cell_type": "code",
   "execution_count": 6,
   "id": "b53d014f-aff2-4a8d-a399-49126250bac9",
   "metadata": {},
   "outputs": [
    {
     "data": {
      "text/plain": [
       "Event\n",
       "Football                    1357\n",
       "Hockey                      1154\n",
       "Team Competition             975\n",
       "Eight With Coxswain (8+)     828\n",
       "Basketball                   814\n",
       "Name: Athlete, dtype: int64"
      ]
     },
     "execution_count": 6,
     "metadata": {},
     "output_type": "execute_result"
    }
   ],
   "source": [
    "top5_events_athlete = df.groupby(\"Event\")[\"Athlete\"].nunique().sort_values(ascending=False).head(5)\n",
    "top5_events_athlete"
   ]
  },
  {
   "cell_type": "code",
   "execution_count": 11,
   "id": "2ab106b2-aeaf-4c4c-8ee0-19863a8677f7",
   "metadata": {},
   "outputs": [
    {
     "data": {
      "text/plain": [
       "Sport\n",
       "Aquatics      385\n",
       "Athletics     306\n",
       "Gymnastics    188\n",
       "Rowing        157\n",
       "Volleyball    132\n",
       "Name: Athlete, dtype: int64"
      ]
     },
     "execution_count": 11,
     "metadata": {},
     "output_type": "execute_result"
    }
   ],
   "source": [
    "female_gold = df[(df[\"Gender\"] == \"Women\") & (df[\"Medal\"] == \"Gold\")]\n",
    "top5_female_gold = female_gold.groupby(\"Sport\")[\"Athlete\"].nunique().sort_values(ascending=False).head(5)\n",
    "top5_female_gold"
   ]
  },
  {
   "cell_type": "code",
   "execution_count": 14,
   "id": "42b5e492-d675-4441-9d79-ec66033c2633",
   "metadata": {},
   "outputs": [
    {
     "data": {
      "text/plain": [
       "78"
      ]
     },
     "execution_count": 14,
     "metadata": {},
     "output_type": "execute_result"
    }
   ],
   "source": [
    "def fizz_buzz_sum(target):\n",
    "    return sum(i for i in range(target) if i%3 == 0 or i%5 == 0)\n",
    "\n",
    "fizz_buzz_sum(20)"
   ]
  },
  {
   "cell_type": "code",
   "execution_count": 18,
   "id": "2323ce55-2da0-4cca-8c4c-b6b87983c91f",
   "metadata": {},
   "outputs": [
    {
     "data": {
      "text/plain": [
       "False"
      ]
     },
     "execution_count": 18,
     "metadata": {},
     "output_type": "execute_result"
    }
   ],
   "source": [
    "def has_duplicates(a):\n",
    "    return len(a) != len(set(a))\n",
    "has_duplicates([3,4,1,6])"
   ]
  },
  {
   "cell_type": "code",
   "execution_count": 21,
   "id": "73ba5301-0dbc-4833-8c2e-31c930d489e0",
   "metadata": {},
   "outputs": [
    {
     "data": {
      "text/plain": [
       "True"
      ]
     },
     "execution_count": 21,
     "metadata": {},
     "output_type": "execute_result"
    }
   ],
   "source": [
    "def is_palindrome(a):\n",
    "    b = str(a).lower()\n",
    "    return b == b[::-1]\n",
    "is_palindrome(\"Radar\")"
   ]
  },
  {
   "cell_type": "code",
   "execution_count": 22,
   "id": "868bd9f1-8715-4221-9bce-9f8ef963647e",
   "metadata": {},
   "outputs": [
    {
     "name": "stdin",
     "output_type": "stream",
     "text": [
      "enter first number -9\n",
      "enter second number 0\n"
     ]
    },
    {
     "name": "stdout",
     "output_type": "stream",
     "text": [
      "negative\n"
     ]
    }
   ],
   "source": [
    "a = int(input(\"enter first number\"))\n",
    "b = int(input(\"enter second number\"))\n",
    "c = a+b\n",
    "if c > 0:\n",
    "    print(\"positive\")\n",
    "else:\n",
    "    print(\"negative\")"
   ]
  },
  {
   "cell_type": "code",
   "execution_count": 23,
   "id": "3bd501b1-9e94-4bcc-89fe-5e72a7c49621",
   "metadata": {},
   "outputs": [
    {
     "data": {
      "text/plain": [
       "2"
      ]
     },
     "execution_count": 23,
     "metadata": {},
     "output_type": "execute_result"
    }
   ],
   "source": [
    "5 // 2"
   ]
  },
  {
   "cell_type": "code",
   "execution_count": 24,
   "id": "4665b6ca-8832-4712-98c5-5825a0903ddc",
   "metadata": {},
   "outputs": [
    {
     "data": {
      "text/plain": [
       "64"
      ]
     },
     "execution_count": 24,
     "metadata": {},
     "output_type": "execute_result"
    }
   ],
   "source": [
    "2**6"
   ]
  },
  {
   "cell_type": "code",
   "execution_count": 25,
   "id": "9c06aa9c-0c32-4833-b041-cb3b25292eb7",
   "metadata": {},
   "outputs": [
    {
     "data": {
      "text/plain": [
       "1"
      ]
     },
     "execution_count": 25,
     "metadata": {},
     "output_type": "execute_result"
    }
   ],
   "source": [
    "10 % 3\n"
   ]
  },
  {
   "cell_type": "code",
   "execution_count": null,
   "id": "7e09f636-017b-4314-9b88-ee2a875b54da",
   "metadata": {},
   "outputs": [],
   "source": []
  }
 ],
 "metadata": {
  "kernelspec": {
   "display_name": "Python 3 (ipykernel)",
   "language": "python",
   "name": "python3"
  },
  "language_info": {
   "codemirror_mode": {
    "name": "ipython",
    "version": 3
   },
   "file_extension": ".py",
   "mimetype": "text/x-python",
   "name": "python",
   "nbconvert_exporter": "python",
   "pygments_lexer": "ipython3",
   "version": "3.13.5"
  }
 },
 "nbformat": 4,
 "nbformat_minor": 5
}
