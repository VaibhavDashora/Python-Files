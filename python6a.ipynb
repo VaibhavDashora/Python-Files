{
 "cells": [
  {
   "cell_type": "code",
   "execution_count": 1,
   "id": "f799ec90-4b49-4599-9789-fbc952ad4ed3",
   "metadata": {},
   "outputs": [
    {
     "name": "stdin",
     "output_type": "stream",
     "text": [
      "enter hours worked by worker 1: 10\n"
     ]
    },
    {
     "name": "stdout",
     "output_type": "stream",
     "text": [
      "worker1 payment:1200\n"
     ]
    },
    {
     "name": "stdin",
     "output_type": "stream",
     "text": [
      "enter hours worked by worker 2: 15\n"
     ]
    },
    {
     "name": "stdout",
     "output_type": "stream",
     "text": [
      "worker2 payment:1800\n"
     ]
    },
    {
     "name": "stdin",
     "output_type": "stream",
     "text": [
      "enter hours worked by worker 3: 20\n"
     ]
    },
    {
     "name": "stdout",
     "output_type": "stream",
     "text": [
      "worker3 payment:2400\n"
     ]
    },
    {
     "name": "stdin",
     "output_type": "stream",
     "text": [
      "enter hours worked by worker 4: 25\n"
     ]
    },
    {
     "name": "stdout",
     "output_type": "stream",
     "text": [
      "worker4 payment:3000\n"
     ]
    }
   ],
   "source": [
    "for i in range(1,5):\n",
    "    hours = int(input(\"enter hours worked by worker {}:\".format(i)))\n",
    "    payment = hours*120\n",
    "    print(\"worker{} payment:{}\".format(i,payment))"
   ]
  },
  {
   "cell_type": "code",
   "execution_count": 6,
   "id": "085256b4-8284-4b2f-9f71-312ea83e54b2",
   "metadata": {},
   "outputs": [
    {
     "name": "stdin",
     "output_type": "stream",
     "text": [
      "power used by machine1: 600\n"
     ]
    },
    {
     "name": "stdout",
     "output_type": "stream",
     "text": [
      "machine 1 has high usage.\n"
     ]
    },
    {
     "name": "stdin",
     "output_type": "stream",
     "text": [
      "power used by machine2: 200\n"
     ]
    },
    {
     "name": "stdout",
     "output_type": "stream",
     "text": [
      "Its normal\n"
     ]
    },
    {
     "name": "stdin",
     "output_type": "stream",
     "text": [
      "power used by machine3: 100\n"
     ]
    },
    {
     "name": "stdout",
     "output_type": "stream",
     "text": [
      "Its normal\n"
     ]
    }
   ],
   "source": [
    "for i in range(1,4):\n",
    "    machine = int(input(\"power used by machine{}:\".format(i)))\n",
    "    if machine > 500:\n",
    "        print(\"machine {} has high usage.\".format(i))\n",
    "    else:\n",
    "        print(\"Its normal\")\n",
    "        "
   ]
  },
  {
   "cell_type": "code",
   "execution_count": 11,
   "id": "b4d60318-5b4c-4903-b26c-29a1be0d293b",
   "metadata": {},
   "outputs": [
    {
     "name": "stdin",
     "output_type": "stream",
     "text": [
      "enter parking hours for car1 10\n"
     ]
    },
    {
     "name": "stdout",
     "output_type": "stream",
     "text": [
      "Payment 500\n"
     ]
    },
    {
     "name": "stdin",
     "output_type": "stream",
     "text": [
      "enter parking hours for car2 20\n"
     ]
    },
    {
     "name": "stdout",
     "output_type": "stream",
     "text": [
      "Maxmimum charge reached pay 1000\n"
     ]
    },
    {
     "name": "stdin",
     "output_type": "stream",
     "text": [
      "enter parking hours for car3 30\n"
     ]
    },
    {
     "name": "stdout",
     "output_type": "stream",
     "text": [
      "Maxmimum charge reached pay 1500\n"
     ]
    },
    {
     "name": "stdin",
     "output_type": "stream",
     "text": [
      "enter parking hours for car4 40\n"
     ]
    },
    {
     "name": "stdout",
     "output_type": "stream",
     "text": [
      "Maxmimum charge reached pay 2000\n"
     ]
    },
    {
     "name": "stdin",
     "output_type": "stream",
     "text": [
      "enter parking hours for car5 50\n"
     ]
    },
    {
     "name": "stdout",
     "output_type": "stream",
     "text": [
      "Maxmimum charge reached pay 2500\n"
     ]
    },
    {
     "name": "stdin",
     "output_type": "stream",
     "text": [
      "enter parking hours for car6 60\n"
     ]
    },
    {
     "name": "stdout",
     "output_type": "stream",
     "text": [
      "Maxmimum charge reached pay 3000\n"
     ]
    }
   ],
   "source": [
    "for i in range(1,7):\n",
    "    hours = int(input(\"enter parking hours for car{}\".format(i)))\n",
    "    if hours > 10:\n",
    "        print(\"Maxmimum charge reached pay\",hours*50)\n",
    "    else:\n",
    "        charged = hours*50\n",
    "        print(\"Payment\",charged)\n",
    "    "
   ]
  },
  {
   "cell_type": "code",
   "execution_count": 12,
   "id": "154a4771-53dc-431c-af36-0dd84ef7731e",
   "metadata": {},
   "outputs": [
    {
     "name": "stdin",
     "output_type": "stream",
     "text": [
      "enter weight for shipment 1 (kg) 100\n"
     ]
    },
    {
     "name": "stdout",
     "output_type": "stream",
     "text": [
      "shipment1 is within weight limits\n"
     ]
    },
    {
     "name": "stdin",
     "output_type": "stream",
     "text": [
      "enter weight for shipment 2 (kg) 120\n"
     ]
    },
    {
     "name": "stdout",
     "output_type": "stream",
     "text": [
      "shipment 2 is overweigh\n"
     ]
    }
   ],
   "source": [
    "for a in range(1,3):\n",
    "    weight = int(input(\"enter weight for shipment {} (kg)\".format(a)))\n",
    "    if weight > 100:\n",
    "        print(\"shipment {} is overweigh\".format(a))\n",
    "        continue\n",
    "    print(\"shipment{} is within weight limits\".format(a))"
   ]
  },
  {
   "cell_type": "code",
   "execution_count": 14,
   "id": "bcabc162-68cc-4973-9bbd-7adbcb0734ad",
   "metadata": {},
   "outputs": [
    {
     "name": "stdin",
     "output_type": "stream",
     "text": [
      "enter weight for shipment 1 (kg) 120\n"
     ]
    },
    {
     "name": "stdout",
     "output_type": "stream",
     "text": [
      "shipment 1 is overweigh\n"
     ]
    }
   ],
   "source": [
    "for a in range(1,6):\n",
    "    weight = int(input(\"enter weight for shipment {} (kg)\".format(a)))\n",
    "    if weight > 100:\n",
    "        print(\"shipment {} is overweigh\".format(a))\n",
    "        break\n",
    "    print(\"shipment{} is within weight limits\".format(a))"
   ]
  },
  {
   "cell_type": "code",
   "execution_count": 18,
   "id": "d730f89c-4b5e-454f-b618-d59807188245",
   "metadata": {},
   "outputs": [
    {
     "name": "stdin",
     "output_type": "stream",
     "text": [
      "overtime hours? 11\n"
     ]
    },
    {
     "name": "stdout",
     "output_type": "stream",
     "text": [
      "you have earned bonus of 1100\n"
     ]
    },
    {
     "name": "stdin",
     "output_type": "stream",
     "text": [
      "overtime hours? 22\n"
     ]
    },
    {
     "name": "stdout",
     "output_type": "stream",
     "text": [
      "Kudos!!!\n"
     ]
    }
   ],
   "source": [
    "for i in range(1,3):\n",
    "    overtime_hrs = int(input(\"overtime hours?\"))\n",
    "\n",
    "    if overtime_hrs > 20: \n",
    "        print(\"Kudos!!!\")\n",
    "        break\n",
    "    else:\n",
    "        print(\"you have earned bonus of\",overtime_hrs*100)"
   ]
  },
  {
   "cell_type": "code",
   "execution_count": 1,
   "id": "e16a7043-8d4e-4ac7-b53d-090e227228a6",
   "metadata": {},
   "outputs": [
    {
     "name": "stdin",
     "output_type": "stream",
     "text": [
      "Is item 1 defective? (good = 0 /def = 1):  1\n",
      "Is item 2 defective? (good = 0 /def = 1):  1\n",
      "Is item 3 defective? (good = 0 /def = 1):  1\n"
     ]
    },
    {
     "name": "stdout",
     "output_type": "stream",
     "text": [
      "Warning: 3 defective items detected. Stopping the cycle.\n"
     ]
    }
   ],
   "source": [
    "defective_count = 0\n",
    "for i in range(1, 11):\n",
    "    is_defective = int(input(\"Is item {} defective? (good = 0 /def = 1): \".format(i)))\n",
    "    \n",
    "    if is_defective == 1:\n",
    "        defective_count += 1\n",
    "        if defective_count == 3:\n",
    "            print(\"Warning: 3 defective items detected. Stopping the cycle.\")\n",
    "            break\n",
    "    else:\n",
    "        print(\"Item {} passed quality check.\".format(i))\n",
    "\n",
    "if defective_count < 3:\n",
    "    print(\" Cycle completed successfully.\")\n"
   ]
  },
  {
   "cell_type": "code",
   "execution_count": 4,
   "id": "d369b618-915c-4341-b975-cee85194b37a",
   "metadata": {},
   "outputs": [
    {
     "name": "stdin",
     "output_type": "stream",
     "text": [
      "enter 1 to order itmes, 0 to stop 0\n"
     ]
    },
    {
     "name": "stdout",
     "output_type": "stream",
     "text": [
      "no more orders\n",
      "total items ordered:0\n",
      "final budget 10000\n"
     ]
    }
   ],
   "source": [
    "budget = 10000\n",
    "item_cost = 200\n",
    "items_ordered = 0\n",
    "\n",
    "while budget >= item_cost:\n",
    "    choice = int(input(\"enter 1 to order itmes, 0 to stop\"))\n",
    "    if choice ==0:\n",
    "        print(\"no more orders\")\n",
    "        break\n",
    "\n",
    "    budget -= item_cost\n",
    "    items_ordered +=1\n",
    "    print(\"ordered item number\",items_ordered)\n",
    "    print(\"remaining budget {}\".format(budget))\n",
    "print(\"total items ordered:{}\".format(items_ordered))\n",
    "print(\"final budget {}\".format(budget))\n",
    "    "
   ]
  },
  {
   "cell_type": "code",
   "execution_count": 6,
   "id": "5a3c3197-2e43-4394-9b39-c5a895877bf7",
   "metadata": {},
   "outputs": [
    {
     "name": "stdout",
     "output_type": "stream",
     "text": [
      "{1: 'Laptop', 2: 'Phone', 3: 'Tablet', 5: 'Keyboard', 6: 'Mouse'}\n"
     ]
    }
   ],
   "source": [
    "\n",
    "products = {\n",
    "    1: 'Laptop',\n",
    "    2: 'Phone',\n",
    "    3: 'Tablet',\n",
    "    4: 'Monitor',\n",
    "    5: 'Keyboard',\n",
    "    6: 'Mouse'\n",
    "}\n",
    "\n",
    "del products[4]\n",
    "\n",
    "print(products)\n"
   ]
  },
  {
   "cell_type": "code",
   "execution_count": 7,
   "id": "7ad932e7-613c-4b93-9c31-79dc08b31f25",
   "metadata": {},
   "outputs": [
    {
     "data": {
      "text/plain": [
       "{'notebook', 'paper', 'pen'}"
      ]
     },
     "execution_count": 7,
     "metadata": {},
     "output_type": "execute_result"
    }
   ],
   "source": [
    "a = [\"pen\",\n",
    "     \"paper\",\n",
    "     \"pen\",\n",
    "     \"notebook\",\n",
    "     \"paper\",]\n",
    "\n",
    "u = set(a)\n",
    "u\n"
   ]
  },
  {
   "cell_type": "code",
   "execution_count": 4,
   "id": "5ef3d71f-1ce5-407d-b580-069cb682cfbc",
   "metadata": {},
   "outputs": [
    {
     "name": "stdout",
     "output_type": "stream",
     "text": [
      "0 1\n",
      "0 2\n",
      "1 0\n",
      "1 2\n",
      "2 0\n",
      "2 1\n"
     ]
    }
   ],
   "source": [
    "for i in range(3):\n",
    "    for j in range(3):\n",
    "        if i == j:\n",
    "            pass\n",
    "        else:\n",
    "            print(i,j)"
   ]
  },
  {
   "cell_type": "code",
   "execution_count": 6,
   "id": "99d12b54-bdf7-4bc5-8367-f823f281bacc",
   "metadata": {},
   "outputs": [
    {
     "name": "stdout",
     "output_type": "stream",
     "text": [
      "123Done\n"
     ]
    }
   ],
   "source": [
    "i = 1\n",
    "while i < 4:\n",
    "    print(i,end=\"\")\n",
    "    i += 1\n",
    "else:\n",
    "    print(\"Done\")\n",
    "    "
   ]
  },
  {
   "cell_type": "code",
   "execution_count": 8,
   "id": "c7cb4ce2-3990-401c-bdee-849ee6176d36",
   "metadata": {},
   "outputs": [
    {
     "name": "stdout",
     "output_type": "stream",
     "text": [
      "Loop Finished\n"
     ]
    }
   ],
   "source": [
    "for i in range(5):\n",
    "    pass\n",
    "print(\"Loop Finished\")"
   ]
  },
  {
   "cell_type": "code",
   "execution_count": 9,
   "id": "2d4c3f68-7da9-4bbe-8bdb-c1c3291285bb",
   "metadata": {},
   "outputs": [
    {
     "name": "stdout",
     "output_type": "stream",
     "text": [
      "0 0\n",
      "0 1\n",
      "1 0\n",
      "2 0\n",
      "2 1\n"
     ]
    }
   ],
   "source": [
    "for i in range(3):\n",
    "    for j in range(2):\n",
    "        print(i,j)\n",
    "        if i == 1:\n",
    "            break\n",
    "        "
   ]
  },
  {
   "cell_type": "code",
   "execution_count": 11,
   "id": "f6a950b8-edb1-40b2-9979-ab9f3abe4411",
   "metadata": {},
   "outputs": [
    {
     "name": "stdout",
     "output_type": "stream",
     "text": [
      "Greater\n"
     ]
    }
   ],
   "source": [
    "x = 7\n",
    "if x < 5:\n",
    "    print(\"less\")\n",
    "elif x > 5:\n",
    "    print(\"Greater\")\n",
    "else:\n",
    "    print(\"equal\")"
   ]
  },
  {
   "cell_type": "code",
   "execution_count": 15,
   "id": "73d3d3c4-d70b-4235-a401-6177eccb062d",
   "metadata": {},
   "outputs": [
    {
     "name": "stdout",
     "output_type": "stream",
     "text": [
      "1\n",
      "3\n",
      "5\n",
      "7\n",
      "9\n"
     ]
    }
   ],
   "source": [
    "x=0\n",
    "while x < 10:\n",
    "    x+=1\n",
    "    if x % 2 == 0:\n",
    "        continue\n",
    "    print(x)"
   ]
  },
  {
   "cell_type": "code",
   "execution_count": 16,
   "id": "46e66a17-2656-4bf1-9f26-2ee418c95aa6",
   "metadata": {},
   "outputs": [
    {
     "name": "stdout",
     "output_type": "stream",
     "text": [
      "less than 10\n"
     ]
    }
   ],
   "source": [
    "x = 5\n",
    "if x < 10:\n",
    "    print(\"less than 10\")\n",
    "elif x > 10:\n",
    "    print(\"greater than 10\")\n",
    "else:\n",
    "    print(\"equal to 10\")"
   ]
  },
  {
   "cell_type": "code",
   "execution_count": 17,
   "id": "38bb8dff-c7d8-4690-9d07-8da6700ab310",
   "metadata": {},
   "outputs": [
    {
     "name": "stdout",
     "output_type": "stream",
     "text": [
      "0\n",
      "1\n",
      "2\n",
      "3\n",
      "4\n"
     ]
    }
   ],
   "source": [
    "for i in range(5):\n",
    "    if i == 4:\n",
    "        pass\n",
    "    print(i)"
   ]
  },
  {
   "cell_type": "code",
   "execution_count": 18,
   "id": "c24498de-6afb-4299-8529-a73f10f7990d",
   "metadata": {},
   "outputs": [
    {
     "name": "stdout",
     "output_type": "stream",
     "text": [
      "between 5 and 15\n"
     ]
    }
   ],
   "source": [
    "x = 10\n",
    "if x > 5:\n",
    "    if x < 15:\n",
    "        print(\"between 5 and 15\")\n",
    "    else:\n",
    "        print(\"greater than 15\")\n",
    "else:\n",
    "    print(\"Less than 5\")"
   ]
  },
  {
   "cell_type": "code",
   "execution_count": 22,
   "id": "16d3b46d-41a9-4eb6-b519-0c7a487e906f",
   "metadata": {},
   "outputs": [
    {
     "name": "stdout",
     "output_type": "stream",
     "text": [
      "1\n",
      "2\n",
      "3\n",
      "Loop Completed\n"
     ]
    }
   ],
   "source": [
    "x = 0\n",
    "while x < 3:\n",
    "    x +=1\n",
    "    if x == 2:\n",
    "        pass\n",
    "    print(x)\n",
    "else:\n",
    "    print(\"Loop Completed\")"
   ]
  },
  {
   "cell_type": "code",
   "execution_count": 23,
   "id": "81e52bee-2d29-43f2-b9f4-9228d0ee04df",
   "metadata": {},
   "outputs": [
    {
     "name": "stdout",
     "output_type": "stream",
     "text": [
      "0\n",
      "1\n",
      "2\n",
      "3\n"
     ]
    }
   ],
   "source": [
    "x = 0\n",
    "while x < 5:\n",
    "    print(x)\n",
    "    if x == 3:\n",
    "        break\n",
    "    x += 1\n",
    "else:\n",
    "    print(\"Loop finished\")"
   ]
  },
  {
   "cell_type": "code",
   "execution_count": 24,
   "id": "39ff2f00-fa8d-4790-9dbd-93aa9eb13578",
   "metadata": {},
   "outputs": [
    {
     "name": "stdout",
     "output_type": "stream",
     "text": [
      "0\n",
      "1\n"
     ]
    }
   ],
   "source": [
    "for i in range(3):\n",
    "    if i == 2:\n",
    "        continue\n",
    "    print(i)"
   ]
  },
  {
   "cell_type": "code",
   "execution_count": null,
   "id": "b04d8739-dd57-4a48-9b9d-8a271f8d53c9",
   "metadata": {},
   "outputs": [],
   "source": []
  }
 ],
 "metadata": {
  "kernelspec": {
   "display_name": "Python 3 (ipykernel)",
   "language": "python",
   "name": "python3"
  },
  "language_info": {
   "codemirror_mode": {
    "name": "ipython",
    "version": 3
   },
   "file_extension": ".py",
   "mimetype": "text/x-python",
   "name": "python",
   "nbconvert_exporter": "python",
   "pygments_lexer": "ipython3",
   "version": "3.8.8"
  }
 },
 "nbformat": 4,
 "nbformat_minor": 5
}
